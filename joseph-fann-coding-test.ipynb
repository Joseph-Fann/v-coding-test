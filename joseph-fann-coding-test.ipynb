{
 "cells": [
  {
   "cell_type": "code",
   "execution_count": 1,
   "id": "232329dc-5191-4bf5-a1e5-dedb29e479d9",
   "metadata": {},
   "outputs": [],
   "source": [
    "import json\n",
    "\n",
    "import pandas as pd"
   ]
  },
  {
   "cell_type": "code",
   "execution_count": 2,
   "id": "59e38d74-7618-4427-bb47-09c283d5127d",
   "metadata": {},
   "outputs": [],
   "source": [
    "with open('interview-policies.json', 'r') as f:\n",
    "    data = json.loads(f.read())"
   ]
  },
  {
   "cell_type": "code",
   "execution_count": 3,
   "id": "fbe7a5f6-1de1-4725-8efe-139a6fad6000",
   "metadata": {},
   "outputs": [],
   "source": [
    "df = pd.DataFrame(data['data'], columns=data['fields'])"
   ]
  },
  {
   "cell_type": "markdown",
   "id": "228df30f-1f9f-4ed7-a164-75712121bcf1",
   "metadata": {},
   "source": [
    "####  Compute and output:"
   ]
  },
  {
   "cell_type": "markdown",
   "id": "79f5c75f-5458-4e58-9b29-65bed06d0b5e",
   "metadata": {},
   "source": [
    "#### Total number of policies"
   ]
  },
  {
   "cell_type": "code",
   "execution_count": 4,
   "id": "0cfb2fa6-9724-48b1-85a3-feba0ee5a1ea",
   "metadata": {},
   "outputs": [
    {
     "data": {
      "text/plain": [
       "100000"
      ]
     },
     "execution_count": 4,
     "metadata": {},
     "output_type": "execute_result"
    }
   ],
   "source": [
    "len(data['data'])"
   ]
  },
  {
   "cell_type": "markdown",
   "id": "e7fc3d9f-3648-4a78-9aa2-52ac55293358",
   "metadata": {},
   "source": [
    "#### Count of policies that include a waiver of subrogation"
   ]
  },
  {
   "cell_type": "code",
   "execution_count": 5,
   "id": "f8cde3ae-9c90-4e2c-a829-862dff00c33a",
   "metadata": {},
   "outputs": [
    {
     "data": {
      "text/plain": [
       "49948"
      ]
     },
     "execution_count": 5,
     "metadata": {},
     "output_type": "execute_result"
    }
   ],
   "source": [
    "sum(df['Has Waiver of Subrogation'])"
   ]
  },
  {
   "cell_type": "markdown",
   "id": "0fe626d8-e713-4f99-95b9-a8d021fe0526",
   "metadata": {},
   "source": [
    "#### List of states by the sum of their Building Coverage Limit"
   ]
  },
  {
   "cell_type": "code",
   "execution_count": 6,
   "id": "7d317a7c-b4f6-4d7e-8beb-9b12b0e3a58a",
   "metadata": {},
   "outputs": [
    {
     "data": {
      "text/plain": [
       "Location State\n",
       "AK    1354404000\n",
       "AL    1277021000\n",
       "AR    1302033000\n",
       "AZ    1276073000\n",
       "CA    1301775000\n",
       "CO    1237416000\n",
       "CT    1345233000\n",
       "DE    1258751000\n",
       "FL    1275849000\n",
       "GA    1314357000\n",
       "HI    1268562000\n",
       "IA    1246920000\n",
       "ID    1275667000\n",
       "IL    1342401000\n",
       "IN    1325381000\n",
       "KS    1279724000\n",
       "KY    1302604000\n",
       "LA    1287238000\n",
       "MA    1354120000\n",
       "MD    1356508000\n",
       "ME    1348200000\n",
       "MI    1325393000\n",
       "MN    1249770000\n",
       "MO    1297153000\n",
       "MS    1253193000\n",
       "MT    1331916000\n",
       "NC    1281371000\n",
       "ND    1296444000\n",
       "NE    1307185000\n",
       "NH    1318368000\n",
       "NJ    1288503000\n",
       "NM    1254797000\n",
       "NV    1314614000\n",
       "NY    1264085000\n",
       "OH    1307763000\n",
       "OK    1302472000\n",
       "OR    1279898000\n",
       "PA    1266194000\n",
       "RI    1267241000\n",
       "SC    1292225000\n",
       "SD    1269965000\n",
       "TN    1244554000\n",
       "TX    1280149000\n",
       "UT    1270053000\n",
       "VA    1320433000\n",
       "VT    1298105000\n",
       "WA    1317469000\n",
       "WI    1329146000\n",
       "WV    1242091000\n",
       "WY    1343296000\n",
       "Name: Building Coverage Limit, dtype: int64"
      ]
     },
     "execution_count": 6,
     "metadata": {},
     "output_type": "execute_result"
    }
   ],
   "source": [
    "df.groupby('Location State')['Building Coverage Limit'].sum()"
   ]
  },
  {
   "cell_type": "markdown",
   "id": "7ba0cc74-ae55-4738-889e-1d4803a00e94",
   "metadata": {},
   "source": [
    "#### Convert the above JSON file (which is one large object) to a file of JSON rows where each row is a complete json object. The keys of the new rows should be the “fields” in the original file, and the values the corresponding value for each row."
   ]
  },
  {
   "cell_type": "markdown",
   "id": "6cfae7f4-0214-4a18-8d6a-032a9ffaa21b",
   "metadata": {},
   "source": [
    "#### Sort this new file by GL Aggregate Limit"
   ]
  },
  {
   "cell_type": "code",
   "execution_count": 7,
   "id": "f4cdcbc8-7cb2-4b8f-b52f-4ac61a36a961",
   "metadata": {},
   "outputs": [],
   "source": [
    "# Sorting by GL Aggregate Limit, when values are equal, Pandas default \n",
    "# to by index value in original json\n",
    "gl_df = df.sort_values(by=['GL Aggregate Limit'], ascending=True).to_dict('records')"
   ]
  },
  {
   "cell_type": "code",
   "execution_count": 8,
   "id": "2a5457df-8488-48b9-a259-e7a22afd7954",
   "metadata": {},
   "outputs": [],
   "source": [
    "with open('gl_output.json', 'w') as f:\n",
    "    json.dump(gl_df, f)"
   ]
  },
  {
   "cell_type": "code",
   "execution_count": null,
   "id": "bfe5d210-b08e-440b-90f6-9e14f073487a",
   "metadata": {},
   "outputs": [],
   "source": []
  }
 ],
 "metadata": {
  "kernelspec": {
   "display_name": "venv",
   "language": "python",
   "name": "venv"
  },
  "language_info": {
   "codemirror_mode": {
    "name": "ipython",
    "version": 3
   },
   "file_extension": ".py",
   "mimetype": "text/x-python",
   "name": "python",
   "nbconvert_exporter": "python",
   "pygments_lexer": "ipython3",
   "version": "3.10.11"
  }
 },
 "nbformat": 4,
 "nbformat_minor": 5
}
